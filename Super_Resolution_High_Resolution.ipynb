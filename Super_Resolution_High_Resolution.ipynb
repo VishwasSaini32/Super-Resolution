{
 "cells": [
  {
   "cell_type": "code",
   "execution_count": 11,
   "metadata": {
    "colab": {
     "base_uri": "https://localhost:8080/",
     "height": 153
    },
    "colab_type": "code",
    "id": "UjBUn3DdciI4",
    "outputId": "2132cbad-8da9-46ec-d2cc-9c6d203867e2"
   },
   "outputs": [
    {
     "name": "stderr",
     "output_type": "stream",
     "text": [
      "Using TensorFlow backend.\n"
     ]
    },
    {
     "name": "stdout",
     "output_type": "stream",
     "text": [
      "python: 2.7.15rc1 (default, Nov 12 2018, 14:31:15) \n",
      "[GCC 7.3.0]\n",
      "keras: 2.2.4\n",
      "OpenCV: 3.4.3\n",
      "Numpy: 1.16.2\n",
      "Matplotlib: 2.2.4\n",
      "Skimage: 0.14.2\n"
     ]
    }
   ],
   "source": [
    "import sys\n",
    "import keras\n",
    "import cv2\n",
    "import numpy\n",
    "import matplotlib\n",
    "import skimage\n",
    "import os\n",
    "\n",
    "print(('python: {}'.format(sys.version)))\n",
    "print(('keras: {}'.format(keras.__version__)))\n",
    "print(('OpenCV: {}'.format(cv2.__version__)))\n",
    "print(('Numpy: {}'.format(numpy.__version__)))\n",
    "print(('Matplotlib: {}'.format(matplotlib.__version__)))\n",
    "print(('Skimage: {}'.format(skimage.__version__)))\n"
   ]
  },
  {
   "cell_type": "code",
   "execution_count": 0,
   "metadata": {
    "colab": {},
    "colab_type": "code",
    "id": "R2diQGICctVC"
   },
   "outputs": [],
   "source": [
    "#import necessary packages\n",
    "from keras.models  import Sequential\n",
    "from keras.layers import Conv2D, Input\n",
    "from keras.optimizers import SGD, Adam\n",
    "from skimage.measure import compare_ssim as ssim\n",
    "from matplotlib import pyplot as plt\n",
    "import cv2\n",
    "import numpy as np\n",
    "import math\n",
    "import os\n",
    "\n",
    "%matplotlib inline"
   ]
  },
  {
   "cell_type": "code",
   "execution_count": 13,
   "metadata": {
    "colab": {
     "base_uri": "https://localhost:8080/",
     "height": 34
    },
    "colab_type": "code",
    "id": "9f8iVs10fCLb",
    "outputId": "ea56379c-7cdf-4618-8865-fd9c7848cb89"
   },
   "outputs": [
    {
     "name": "stdout",
     "output_type": "stream",
     "text": [
      "3051crop_weight_200.h5\timages\timages2  output  sample_data  source\n"
     ]
    }
   ],
   "source": [
    "!ls\n"
   ]
  },
  {
   "cell_type": "code",
   "execution_count": 0,
   "metadata": {
    "colab": {},
    "colab_type": "code",
    "id": "xOf9q_OXcyWv"
   },
   "outputs": [],
   "source": [
    "#function for PSNR\n",
    "def psnr(target, ref):\n",
    "    \n",
    "    #RGB image\n",
    "    target_data = target.astype(float)\n",
    "    ref_data = ref.astype(float)\n",
    "    \n",
    "    diff = ref_data - target_data\n",
    "    diff = diff.flatten('C')\n",
    "    \n",
    "    rmse = math.sqrt(np.mean(diff ** 2.))\n",
    "    \n",
    "    return 20 * math.log10(255. / rmse)\n",
    "\n",
    "#function for MSE\n",
    "def mse(target,ref):\n",
    "    \n",
    "    #MSE is the sum of squared diff between the two images\n",
    "    err = np.sum((target.astype('float') - ref.astype('float')) ** 2)\n",
    "    err /= float(target.shape[0] * target.shape[1])\n",
    "    \n",
    "    return err\n",
    "\n",
    "#function that combines all three image quaity metrices\n",
    "def compare_images(target, ref):\n",
    "    scores = []\n",
    "    scores.append(psnr(target, ref))\n",
    "    scores.append(mse(target, ref))\n",
    "    scores.append(ssim(target, ref, multichannel=True))\n",
    "    \n",
    "    return scores\n"
   ]
  },
  {
   "cell_type": "code",
   "execution_count": 0,
   "metadata": {
    "colab": {},
    "colab_type": "code",
    "id": "B43EvDiec1Pw"
   },
   "outputs": [],
   "source": [
    "#function for peeparing downgraded images by introducing quality distortion via resizing\n",
    "def perpare_images(path, factor):\n",
    "    \n",
    "    #loop through files\n",
    "    for file in os.listdir(path):\n",
    "        \n",
    "        img = cv2.imread(path + '/' +file)\n",
    "        \n",
    "        #find old and new image dimensions\n",
    "        h, w, c = img.shape\n",
    "        new_height = h / factor\n",
    "        new_width = w / factor\n",
    "        \n",
    "        #resizing\n",
    "        #down\n",
    "        img = cv2.resize(img, (new_width, new_height), interpolation = cv2.INTER_LINEAR)\n",
    "        \n",
    "        #up\n",
    "        img = cv2.resize(img, (w, h), interpolation = cv2.INTER_LINEAR)\n",
    "        \n",
    "        \n",
    "        #save image\n",
    "        \n",
    "        print(('Saving {}',format(file)))\n",
    "        cv2.imwrite('images/{}'.format(file), img)"
   ]
  },
  {
   "cell_type": "code",
   "execution_count": 0,
   "metadata": {
    "colab": {
     "base_uri": "https://localhost:8080/",
     "height": 85
    },
    "colab_type": "code",
    "id": "TRZQmdSMc4r7",
    "outputId": "7b796aee-4a81-4820-ce33-a6f6535fc40c"
   },
   "outputs": [
    {
     "name": "stdout",
     "output_type": "stream",
     "text": [
      "mkdir: cannot create directory ‘source’: File exists\n",
      "mkdir: cannot create directory ‘images’: File exists\n",
      "mkdir: cannot create directory ‘images2’: File exists\n",
      "mkdir: cannot create directory ‘output’: File exists\n"
     ]
    }
   ],
   "source": [
    "!mkdir source\n",
    "!mkdir images\n",
    "!mkdir images2\n",
    "!mkdir output"
   ]
  },
  {
   "cell_type": "code",
   "execution_count": 16,
   "metadata": {
    "colab": {
     "base_uri": "https://localhost:8080/",
     "height": 238
    },
    "colab_type": "code",
    "id": "lXvgVcSQdKDE",
    "outputId": "f8922553-f6a8-4f3a-edf0-7200e3fc06a0"
   },
   "outputs": [
    {
     "name": "stdout",
     "output_type": "stream",
     "text": [
      "('Saving {}', 'ppt3.bmp')\n",
      "('Saving {}', 'foreman.bmp')\n",
      "('Saving {}', 'coastguard.bmp')\n",
      "('Saving {}', 'baboon.bmp')\n",
      "('Saving {}', 'face.bmp')\n",
      "('Saving {}', 'flowers.bmp')\n",
      "('Saving {}', 'barbara.bmp')\n",
      "('Saving {}', 'lenna.bmp')\n",
      "('Saving {}', 'muskan.jpeg')\n",
      "('Saving {}', 'comic.bmp')\n",
      "('Saving {}', 'monarch.bmp')\n",
      "('Saving {}', 'pepper.bmp')\n",
      "('Saving {}', 'zebra.bmp')\n"
     ]
    }
   ],
   "source": [
    "perpare_images('source/', 2)"
   ]
  },
  {
   "cell_type": "code",
   "execution_count": 0,
   "metadata": {
    "colab": {
     "base_uri": "https://localhost:8080/",
     "height": 1122
    },
    "colab_type": "code",
    "id": "6Xba_5BceB07",
    "outputId": "2c5d07fc-2c3b-4333-b70c-54548590df29"
   },
   "outputs": [
    {
     "name": "stdout",
     "output_type": "stream",
     "text": [
      "ppt3.bmp\n",
      "PSNR: 24.8492616895\n",
      "MSE: 638.668426391\n",
      "SSIM: 0.928402394232\n",
      "\n",
      "foreman.bmp\n",
      "PSNR: 30.1445653266\n",
      "MSE: 188.688348327\n",
      "SSIM: 0.933268417389\n",
      "\n",
      "coastguard.bmp\n",
      "PSNR: 27.1616006639\n",
      "MSE: 375.008877841\n",
      "SSIM: 0.756950063355\n",
      "\n",
      "baboon.bmp\n",
      "PSNR: 22.1570840834\n",
      "MSE: 1187.11613333\n",
      "SSIM: 0.6292775879\n",
      "\n",
      "face.bmp\n",
      "PSNR: 30.9922065029\n",
      "MSE: 155.231897185\n",
      "SSIM: 0.800843949229\n",
      "\n",
      "flowers.bmp\n",
      "PSNR: 27.4545048054\n",
      "MSE: 350.550939227\n",
      "SSIM: 0.869728628697\n",
      "\n",
      "barbara.bmp\n",
      "PSNR: 25.9066298376\n",
      "MSE: 500.655085359\n",
      "SSIM: 0.809863264641\n",
      "\n",
      "lenna.bmp\n",
      "PSNR: 31.4734929787\n",
      "MSE: 138.948005676\n",
      "SSIM: 0.846098920052\n",
      "\n",
      "muskan.jpeg\n",
      "PSNR: 39.2802820054\n",
      "MSE: 23.0236097332\n",
      "SSIM: 0.943347084847\n",
      "\n",
      "comic.bmp\n",
      "PSNR: 23.7998615022\n",
      "MSE: 813.233883657\n",
      "SSIM: 0.83473354164\n",
      "\n",
      "monarch.bmp\n",
      "PSNR: 30.1962423653\n",
      "MSE: 186.456436157\n",
      "SSIM: 0.943957429343\n",
      "\n",
      "pepper.bmp\n",
      "PSNR: 29.8894716169\n",
      "MSE: 200.103393555\n",
      "SSIM: 0.835793756846\n",
      "\n",
      "zebra.bmp\n",
      "PSNR: 27.9098406393\n",
      "MSE: 315.658545953\n",
      "SSIM: 0.891165620933\n",
      "\n"
     ]
    }
   ],
   "source": [
    "#testing the generated images using image quality metrices\n",
    "\n",
    "for file in os.listdir('images/'):\n",
    "    \n",
    "    target = cv2.imread('images/{}'.format(file))\n",
    "    ref = cv2.imread('source/{}'.format(file))\n",
    "    \n",
    "    scores = compare_images(target, ref)\n",
    "    \n",
    "    print(('{}\\nPSNR: {}\\nMSE: {}\\nSSIM: {}\\n'.format(file, scores[0], scores[1], scores[2])))"
   ]
  },
  {
   "cell_type": "code",
   "execution_count": 0,
   "metadata": {
    "colab": {},
    "colab_type": "code",
    "id": "k8-zj5I9eI7s"
   },
   "outputs": [],
   "source": [
    "#define the SRCNN model\n",
    "\n",
    "def model():\n",
    "    \n",
    "    #define model type\n",
    "    SRCNN = Sequential()\n",
    "    \n",
    "    #add model layers\n",
    "    SRCNN.add(Conv2D(filters=128, kernel_size=(9,9),kernel_initializer='glorot_uniform', activation='relu', padding='valid', use_bias=True, input_shape=(None, None, 1)))\n",
    "    \n",
    "    SRCNN.add(Conv2D(filters=64, kernel_size = (3,3), kernel_initializer='glorot_uniform', activation='relu', padding='valid', use_bias=True))\n",
    "    \n",
    "    SRCNN.add(Conv2D(filters=1, kernel_size = (5,5), kernel_initializer='glorot_uniform', activation='relu', padding='valid', use_bias=True))\n",
    "    \n",
    "    #define optimizer\n",
    "    adam = Adam(lr=0.0003)\n",
    "    \n",
    "    #compile model\n",
    "    SRCNN.compile(optimizer=adam, loss='mean_squared_error', metrics=['mean_squared_error'])\n",
    "    \n",
    "    return SRCNN"
   ]
  },
  {
   "cell_type": "code",
   "execution_count": 0,
   "metadata": {
    "colab": {},
    "colab_type": "code",
    "id": "OAQ_dcOMePGo"
   },
   "outputs": [],
   "source": [
    "#define necessary image processing functions\n",
    "\n",
    "def modcrop(img, scale):\n",
    "    \n",
    "    tmpsz = img.shape\n",
    "    sz = tmpsz[0:2]\n",
    "    sz = sz - np.mod(sz, scale)\n",
    "    img = img[0:sz[0], 1:sz[1]]\n",
    "    return img\n",
    "\n",
    "def shave(image, border):\n",
    "    img = image[border: -border, border: -border]\n",
    "    return img"
   ]
  },
  {
   "cell_type": "code",
   "execution_count": 0,
   "metadata": {
    "colab": {},
    "colab_type": "code",
    "id": "_Loi86b3eRr_"
   },
   "outputs": [],
   "source": [
    "#define main prediction function\n",
    "\n",
    "def predict(image_path):\n",
    "    \n",
    "    #load SRCNN model with weights\n",
    "    srcnn = model()\n",
    "    srcnn.load_weights('3051crop_weight_200.h5')\n",
    "    \n",
    "    #load the degraded and reference images\n",
    "    path, file = os.path.split(image_path)\n",
    "    degraded = cv2.imread(image_path)\n",
    "    ref = cv2.imread('source/{}'.format(file))\n",
    "    \n",
    "    #perprocess the image with modcrop\n",
    "    ref = modcrop(ref, 3)\n",
    "    degraded = modcrop(degraded, 3)\n",
    "    \n",
    "    #convert the image yo YCrCb - (srcnn trained on y channel)\n",
    "    temp = cv2.cvtColor(degraded, cv2.COLOR_BGR2YCrCb)\n",
    "    \n",
    "    #create image slice and normalize\n",
    "    Y = np.zeros((1, temp.shape[0], temp.shape[1], 1), dtype=float)\n",
    "    Y[0, :, :, 0] = temp[:, :, 0].astype(float) / 255\n",
    "    \n",
    "    #perform super-resolution with srcnn\n",
    "    pre = srcnn.predict(Y, batch_size = 1)\n",
    "    \n",
    "    #post-process output\n",
    "    pre *= 255\n",
    "    pre[pre[:] > 255] = 255\n",
    "    pre[pre[:] < 0] = 0\n",
    "    pre = pre.astype(np.uint8)\n",
    "    \n",
    "    #copy y channel back to image and convert to BGR\n",
    "    temp = shave(temp, 7)\n",
    "    temp[:, :, 0] = pre[0, :, :, 0]\n",
    "    output = cv2.cvtColor(temp, cv2.COLOR_YCrCb2BGR)\n",
    "    \n",
    "    #remove border form images\n",
    "    ref = shave(ref.astype(np.uint8), 7)\n",
    "    degraded = shave(degraded.astype(np.uint8), 7)\n",
    "\n",
    "    #image quality calculations\n",
    "    scores = []\n",
    "    scores.append(compare_images(degraded, ref))\n",
    "    scores.append(compare_images(output, ref))\n",
    "    \n",
    "    #return images and scores\n",
    "    return ref, degraded, output, scores\n"
   ]
  },
  {
   "cell_type": "code",
   "execution_count": 0,
   "metadata": {
    "colab": {
     "base_uri": "https://localhost:8080/",
     "height": 231
    },
    "colab_type": "code",
    "id": "CakyFOFxedKw",
    "outputId": "2913127b-e2cb-4c0b-ef28-8e3e945e0703"
   },
   "outputs": [
    {
     "ename": "NameError",
     "evalue": "ignored",
     "output_type": "error",
     "traceback": [
      "\u001b[0;31m\u001b[0m",
      "\u001b[0;31mNameError\u001b[0mTraceback (most recent call last)",
      "\u001b[0;32m<ipython-input-3-bc4bef746630>\u001b[0m in \u001b[0;36m<module>\u001b[0;34m()\u001b[0m\n\u001b[0;32m----> 1\u001b[0;31m \u001b[0;32mfor\u001b[0m \u001b[0mfile\u001b[0m \u001b[0;32min\u001b[0m \u001b[0mos\u001b[0m\u001b[0;34m.\u001b[0m\u001b[0mlistdir\u001b[0m\u001b[0;34m(\u001b[0m\u001b[0;34m'images'\u001b[0m\u001b[0;34m)\u001b[0m\u001b[0;34m:\u001b[0m\u001b[0;34m\u001b[0m\u001b[0m\n\u001b[0m\u001b[1;32m      2\u001b[0m   \u001b[0mref\u001b[0m\u001b[0;34m,\u001b[0m \u001b[0mdegraded\u001b[0m\u001b[0;34m,\u001b[0m \u001b[0moutput\u001b[0m\u001b[0;34m,\u001b[0m \u001b[0mscores\u001b[0m \u001b[0;34m=\u001b[0m \u001b[0mpredict\u001b[0m\u001b[0;34m(\u001b[0m\u001b[0;34m'images/{}'\u001b[0m\u001b[0;34m.\u001b[0m\u001b[0mformat\u001b[0m\u001b[0;34m(\u001b[0m\u001b[0mfile\u001b[0m\u001b[0;34m)\u001b[0m\u001b[0;34m)\u001b[0m\u001b[0;34m\u001b[0m\u001b[0m\n\u001b[1;32m      3\u001b[0m \u001b[0;34m\u001b[0m\u001b[0m\n\u001b[1;32m      4\u001b[0m \u001b[0;34m\u001b[0m\u001b[0m\n\u001b[1;32m      5\u001b[0m   \u001b[0mfig\u001b[0m\u001b[0;34m,\u001b[0m \u001b[0maxs\u001b[0m \u001b[0;34m=\u001b[0m \u001b[0mplt\u001b[0m\u001b[0;34m.\u001b[0m\u001b[0msubplots\u001b[0m\u001b[0;34m(\u001b[0m\u001b[0;36m1\u001b[0m\u001b[0;34m,\u001b[0m \u001b[0;36m3\u001b[0m\u001b[0;34m,\u001b[0m \u001b[0mfigsize\u001b[0m \u001b[0;34m=\u001b[0m \u001b[0;34m(\u001b[0m\u001b[0;36m20\u001b[0m\u001b[0;34m,\u001b[0m \u001b[0;36m8\u001b[0m\u001b[0;34m)\u001b[0m\u001b[0;34m)\u001b[0m\u001b[0;34m\u001b[0m\u001b[0m\n",
      "\u001b[0;31mNameError\u001b[0m: name 'os' is not defined"
     ]
    }
   ],
   "source": [
    "for file in os.listdir('images'):\n",
    "  ref, degraded, output, scores = predict('images/{}'.format(file))\n",
    "  \n",
    "  \n",
    "  fig, axs = plt.subplots(1, 3, figsize = (20, 8))\n",
    "  axs[0].imshow(cv2.cvtColor(ref, cv2.COLOR_BGR2RGB))\n",
    "  axs[0].set_title('Original')\n",
    "  axs[1].imshow(cv2.cvtColor(degraded, cv2.COLOR_BGR2RGB))\n",
    "  axs[1].set_title('Degraded')\n",
    "  axs[1].set(xlabel = 'PSNR: {}\\nMSE: {}\\nSSIM: {}\\n'.format(scores[0][0], scores[0][1], scores[0][2]))\n",
    "  axs[2].imshow(cv2.cvtColor(output, cv2.COLOR_BGR2RGB))\n",
    "  axs[2].set_title('SRCNN')\n",
    "  axs[2].set(xlabel = 'PSNR: {}\\nMSE: {}\\nSSIM: {}\\n'.format(scores[1][0], scores[1][1], scores[1][2]))\n",
    "  \n",
    "  for ax in axs:\n",
    "    ax.set_xticks([])\n",
    "    ax.set_yticks([])\n",
    "    \n",
    "    print(('Saving {}'.format(file)))\n",
    "    fig.savefig('output/{}.png'.format(os.path.splitext(file)[0]))\n",
    "    plt.close\n",
    "  \n",
    "  \n",
    "  "
   ]
  },
  {
   "cell_type": "code",
   "execution_count": 0,
   "metadata": {
    "colab": {},
    "colab_type": "code",
    "id": "U3gAFwdxeixh"
   },
   "outputs": [],
   "source": []
  }
 ],
 "metadata": {
  "colab": {
   "collapsed_sections": [],
   "name": "Super Resolution High Resolution.ipynb",
   "provenance": [],
   "version": "0.3.2"
  },
  "kernelspec": {
   "display_name": "Python 3",
   "language": "python",
   "name": "python3"
  }
 },
 "nbformat": 4,
 "nbformat_minor": 0
}
